{
  "nbformat": 4,
  "nbformat_minor": 0,
  "metadata": {
    "colab": {
      "provenance": []
    },
    "kernelspec": {
      "name": "python3",
      "display_name": "Python 3"
    },
    "language_info": {
      "name": "python"
    },
    "accelerator": "TPU"
  },
  "cells": [
    {
      "cell_type": "markdown",
      "source": [
        "Please run every single code block from top to bottom, while waiting for each to complete before proceeding. Thank you."
      ],
      "metadata": {
        "id": "1cvEgE1lwujj"
      }
    },
    {
      "cell_type": "code",
      "execution_count": null,
      "metadata": {
        "colab": {
          "base_uri": "https://localhost:8080/"
        },
        "id": "1GBfWgK4beMj",
        "outputId": "95392bdb-4dc8-44ac-ea0f-3c07cd9a5faa"
      },
      "outputs": [
        {
          "output_type": "stream",
          "name": "stdout",
          "text": [
            "Requirement already satisfied: nltk in /usr/local/lib/python3.10/dist-packages (3.8.1)\n",
            "Requirement already satisfied: click in /usr/local/lib/python3.10/dist-packages (from nltk) (8.1.7)\n",
            "Requirement already satisfied: joblib in /usr/local/lib/python3.10/dist-packages (from nltk) (1.4.2)\n",
            "Requirement already satisfied: regex>=2021.8.3 in /usr/local/lib/python3.10/dist-packages (from nltk) (2024.5.15)\n",
            "Requirement already satisfied: tqdm in /usr/local/lib/python3.10/dist-packages (from nltk) (4.66.4)\n"
          ]
        },
        {
          "output_type": "stream",
          "name": "stderr",
          "text": [
            "[nltk_data] Downloading package punkt to /root/nltk_data...\n",
            "[nltk_data]   Unzipping tokenizers/punkt.zip.\n"
          ]
        }
      ],
      "source": [
        "!pip install nltk\n",
        "import nltk\n",
        "nltk.download('punkt')\n",
        "\n",
        "import pandas as pd"
      ]
    },
    {
      "cell_type": "code",
      "source": [
        "from google.colab import drive\n",
        "import pandas as pd\n",
        "drive.mount('/content/drive')\n",
        "# The dataset is taken from your drive. So you have to download the True.csv and Fake.csv and put it in some Drive folder and put the route here.\n",
        "fake_news = 0\n",
        "real_news = 0\n",
        "\n",
        "with open(\"/content/drive/My Drive/Computing_Coursework_Dataset/Fake.csv\", \"r\") as f: # Change the Google Drive route to your folder in Google Drive where the dataset is\n",
        "  fake_news = pd.read_csv(f)\n",
        "\n",
        "with open(\"/content/drive/My Drive/Computing_Coursework_Dataset/True.csv\", \"r\") as f:\n",
        "  real_news = pd.read_csv(f)"
      ],
      "metadata": {
        "colab": {
          "base_uri": "https://localhost:8080/"
        },
        "id": "cDQ7RFM_D3T6",
        "outputId": "05d23a4f-89b6-40ad-c22f-0c63822ea5c0"
      },
      "execution_count": null,
      "outputs": [
        {
          "output_type": "stream",
          "name": "stdout",
          "text": [
            "Mounted at /content/drive\n"
          ]
        }
      ]
    },
    {
      "cell_type": "markdown",
      "source": [
        "# Data Visualisation"
      ],
      "metadata": {
        "id": "eLqn1uyLIuFi"
      }
    },
    {
      "cell_type": "code",
      "source": [
        "# data visualisation 1\n",
        "import matplotlib.pyplot as plt\n",
        "import re\n",
        "\n",
        "plt.clf()\n",
        "def count_words(x):\n",
        "    split_list = x.split(\" \")\n",
        "    res = len(split_list)\n",
        "    return res\n",
        "\n",
        "real_lengths = real_news[\"text\"].apply(len)\n",
        "fake_lengths = fake_news[\"text\"].apply(len)\n",
        "\n",
        "real_count = real_news[\"text\"].apply(count_words)\n",
        "fake_count = fake_news[\"text\"].apply(count_words)\n",
        "\n",
        "plt.hist(real_count, bins = 50, alpha = 0.5, label = \"Real\")\n",
        "plt.hist(fake_count, bins = 50, alpha = 0.5, label = \"Fake\")\n",
        "plt.xlim(0, 2000)\n",
        "plt.title(\"Data Visualisation 1\")\n",
        "plt.xlabel(\"Length of article by words\")\n",
        "plt.ylabel(\"Count of article (numbers)\")\n",
        "plt.legend()\n",
        "plt.show()"
      ],
      "metadata": {
        "id": "lsPKLS6LItjv",
        "colab": {
          "base_uri": "https://localhost:8080/",
          "height": 472
        },
        "outputId": "8bad1292-9c6d-4371-fd4f-ad558dc83323"
      },
      "execution_count": null,
      "outputs": [
        {
          "output_type": "display_data",
          "data": {
            "text/plain": [
              "<Figure size 640x480 with 1 Axes>"
            ],
            "image/png": "[encoded data removed]"
          },
          "metadata": {}
        }
      ]
    },
    {
      "cell_type": "code",
      "source": [
        "# data visualisation 2\n",
        "plt.hist(real_lengths, bins = 50, alpha = 0.5, label = \"Real\")\n",
        "plt.hist(fake_lengths, bins = 50, alpha = 0.5, label = \"Fake\")\n",
        "plt.xlim(0, 12000)\n",
        "plt.title(\"Data Visualisation 2\")\n",
        "plt.xlabel(\"Length of article by characters\")\n",
        "plt.ylabel(\"Count of article (numbers)\")\n",
        "plt.legend()\n",
        "plt.show()"
      ],
      "metadata": {
        "id": "lDBbFdnbuAK2",
        "colab": {
          "base_uri": "https://localhost:8080/",
          "height": 472
        },
        "outputId": "9ef62d76-91b5-43c0-c2a1-0e6468e527b8"
      },
      "execution_count": null,
      "outputs": [
        {
          "output_type": "display_data",
          "data": {
            "text/plain": [
              "<Figure size 640x480 with 1 Axes>"
            ],
            "image/png": "[encoded data removed]"
          },
          "metadata": {}
        }
      ]
    },
    {
      "cell_type": "code",
      "source": [
        "# data visualisation 3\n",
        "import nltk\n",
        "\n",
        "# Will take a while to run, be patient.\n",
        "\n",
        "# Pre-processing the real news data\n",
        "filtered_true = []\n",
        "all_words = []\n",
        "\n",
        "for text in real_news.to_string().split():\n",
        "    all_words.extend(nltk.word_tokenize(text.lower()))\n",
        "stop_words = set(nltk.corpus.stopwords.words('english'))\n",
        "filtered_true = [word for word in all_words if word.isalpha() and word not in stop_words]\n",
        "\n",
        "\n",
        "# Pre-processing the fake news data\n",
        "filtered_fake = []\n",
        "all_words = []\n",
        "\n",
        "for text in fake_news.to_string().split():\n",
        "    all_words.extend(nltk.word_tokenize(text.lower()))\n",
        "stop_words = set(nltk.corpus.stopwords.words('english'))\n",
        "filtered_fake = [word for word in all_words if word.isalpha() and word not in stop_words]\n",
        "\n",
        "\n",
        "# counting the most common words in both real and fake news\n",
        "combined_words = filtered_fake + filtered_true\n",
        "\n",
        "countedWords = []\n",
        "for i in set(combined_words):\n",
        "    countedWords.append([combined_words.count(i), i])\n",
        "\n",
        "\n",
        "# taking out 20 of the most frequent words\n",
        "countedWords = sorted(countedWords, key=lambda a: a[0])[-20:]\n",
        "\n",
        "\n",
        "# counting how many of the most common words are in the real and fake news\n",
        "countedTrue = []\n",
        "countedFalse = []\n",
        "\n",
        "for i in countedWords:\n",
        "    countedTrue.append([filtered_true.count(i[1]), i[1]])\n",
        "    countedFalse.append([filtered_fake.count(i[1]), i[1]])\n",
        "\n",
        "\n",
        "# Creating a bar graph\n",
        "plt.figure(figsize=(10, 6))\n",
        "plt.bar([x[1] for x in countedTrue], [x[0] for x in countedTrue], alpha=0.5, label='Real')\n",
        "plt.bar([x[1] for x in countedFalse],[x[0] for x in countedFalse], alpha=0.5, label='Fake')\n",
        "plt.xlabel('Words')\n",
        "plt.ylabel('Frequencies')\n",
        "plt.title('Data visualisation 3: Word Frequencies')\n",
        "plt.xticks(rotation=45)\n",
        "plt.tight_layout()\n",
        "plt.show()"
      ],
      "metadata": {
        "id": "9t08EDxiy7G4",
        "colab": {
          "base_uri": "https://localhost:8080/",
          "height": 403
        },
        "outputId": "bf139c15-7d85-40b3-f220-1db67c5674c2"
      },
      "execution_count": null,
      "outputs": [
        {
          "output_type": "error",
          "ename": "KeyboardInterrupt",
          "evalue": "ignored",
          "traceback": [
            "\u001b[0;31m---------------------------------------------------------------------------\u001b[0m",
            "\u001b[0;31mKeyboardInterrupt\u001b[0m                         Traceback (most recent call last)",
            "\u001b[0;32m<ipython-input-13-38cfb2d5ceca>\u001b[0m in \u001b[0;36m<cell line: 9>\u001b[0;34m()\u001b[0m\n\u001b[1;32m      8\u001b[0m \u001b[0;34m\u001b[0m\u001b[0m\n\u001b[1;32m      9\u001b[0m \u001b[0;32mfor\u001b[0m \u001b[0mtext\u001b[0m \u001b[0;32min\u001b[0m \u001b[0mreal_news\u001b[0m\u001b[0;34m.\u001b[0m\u001b[0mto_string\u001b[0m\u001b[0;34m(\u001b[0m\u001b[0;34m)\u001b[0m\u001b[0;34m.\u001b[0m\u001b[0msplit\u001b[0m\u001b[0;34m(\u001b[0m\u001b[0;34m)\u001b[0m\u001b[0;34m:\u001b[0m\u001b[0;34m\u001b[0m\u001b[0;34m\u001b[0m\u001b[0m\n\u001b[0;32m---> 10\u001b[0;31m     \u001b[0mall_words\u001b[0m\u001b[0;34m.\u001b[0m\u001b[0mextend\u001b[0m\u001b[0;34m(\u001b[0m\u001b[0mnltk\u001b[0m\u001b[0;34m.\u001b[0m\u001b[0mword_tokenize\u001b[0m\u001b[0;34m(\u001b[0m\u001b[0mtext\u001b[0m\u001b[0;34m.\u001b[0m\u001b[0mlower\u001b[0m\u001b[0;34m(\u001b[0m\u001b[0;34m)\u001b[0m\u001b[0;34m)\u001b[0m\u001b[0;34m)\u001b[0m\u001b[0;34m\u001b[0m\u001b[0;34m\u001b[0m\u001b[0m\n\u001b[0m\u001b[1;32m     11\u001b[0m \u001b[0mstop_words\u001b[0m \u001b[0;34m=\u001b[0m \u001b[0mset\u001b[0m\u001b[0;34m(\u001b[0m\u001b[0mnltk\u001b[0m\u001b[0;34m.\u001b[0m\u001b[0mcorpus\u001b[0m\u001b[0;34m.\u001b[0m\u001b[0mstopwords\u001b[0m\u001b[0;34m.\u001b[0m\u001b[0mwords\u001b[0m\u001b[0;34m(\u001b[0m\u001b[0;34m'english'\u001b[0m\u001b[0;34m)\u001b[0m\u001b[0;34m)\u001b[0m\u001b[0;34m\u001b[0m\u001b[0;34m\u001b[0m\u001b[0m\n\u001b[1;32m     12\u001b[0m \u001b[0mfiltered_true\u001b[0m \u001b[0;34m=\u001b[0m \u001b[0;34m[\u001b[0m\u001b[0mword\u001b[0m \u001b[0;32mfor\u001b[0m \u001b[0mword\u001b[0m \u001b[0;32min\u001b[0m \u001b[0mall_words\u001b[0m \u001b[0;32mif\u001b[0m \u001b[0mword\u001b[0m\u001b[0;34m.\u001b[0m\u001b[0misalpha\u001b[0m\u001b[0;34m(\u001b[0m\u001b[0;34m)\u001b[0m \u001b[0;32mand\u001b[0m \u001b[0mword\u001b[0m \u001b[0;32mnot\u001b[0m \u001b[0;32min\u001b[0m \u001b[0mstop_words\u001b[0m\u001b[0;34m]\u001b[0m\u001b[0;34m\u001b[0m\u001b[0;34m\u001b[0m\u001b[0m\n",
            "\u001b[0;32m/usr/local/lib/python3.10/dist-packages/nltk/tokenize/__init__.py\u001b[0m in \u001b[0;36mword_tokenize\u001b[0;34m(text, language, preserve_line)\u001b[0m\n\u001b[1;32m    128\u001b[0m     \"\"\"\n\u001b[1;32m    129\u001b[0m     \u001b[0msentences\u001b[0m \u001b[0;34m=\u001b[0m \u001b[0;34m[\u001b[0m\u001b[0mtext\u001b[0m\u001b[0;34m]\u001b[0m \u001b[0;32mif\u001b[0m \u001b[0mpreserve_line\u001b[0m \u001b[0;32melse\u001b[0m \u001b[0msent_tokenize\u001b[0m\u001b[0;34m(\u001b[0m\u001b[0mtext\u001b[0m\u001b[0;34m,\u001b[0m \u001b[0mlanguage\u001b[0m\u001b[0;34m)\u001b[0m\u001b[0;34m\u001b[0m\u001b[0;34m\u001b[0m\u001b[0m\n\u001b[0;32m--> 130\u001b[0;31m     return [\n\u001b[0m\u001b[1;32m    131\u001b[0m         \u001b[0mtoken\u001b[0m \u001b[0;32mfor\u001b[0m \u001b[0msent\u001b[0m \u001b[0;32min\u001b[0m \u001b[0msentences\u001b[0m \u001b[0;32mfor\u001b[0m \u001b[0mtoken\u001b[0m \u001b[0;32min\u001b[0m \u001b[0m_treebank_word_tokenizer\u001b[0m\u001b[0;34m.\u001b[0m\u001b[0mtokenize\u001b[0m\u001b[0;34m(\u001b[0m\u001b[0msent\u001b[0m\u001b[0;34m)\u001b[0m\u001b[0;34m\u001b[0m\u001b[0;34m\u001b[0m\u001b[0m\n\u001b[1;32m    132\u001b[0m     ]\n",
            "\u001b[0;32m/usr/local/lib/python3.10/dist-packages/nltk/tokenize/__init__.py\u001b[0m in \u001b[0;36m<listcomp>\u001b[0;34m(.0)\u001b[0m\n\u001b[1;32m    129\u001b[0m     \u001b[0msentences\u001b[0m \u001b[0;34m=\u001b[0m \u001b[0;34m[\u001b[0m\u001b[0mtext\u001b[0m\u001b[0;34m]\u001b[0m \u001b[0;32mif\u001b[0m \u001b[0mpreserve_line\u001b[0m \u001b[0;32melse\u001b[0m \u001b[0msent_tokenize\u001b[0m\u001b[0;34m(\u001b[0m\u001b[0mtext\u001b[0m\u001b[0;34m,\u001b[0m \u001b[0mlanguage\u001b[0m\u001b[0;34m)\u001b[0m\u001b[0;34m\u001b[0m\u001b[0;34m\u001b[0m\u001b[0m\n\u001b[1;32m    130\u001b[0m     return [\n\u001b[0;32m--> 131\u001b[0;31m         \u001b[0mtoken\u001b[0m \u001b[0;32mfor\u001b[0m \u001b[0msent\u001b[0m \u001b[0;32min\u001b[0m \u001b[0msentences\u001b[0m \u001b[0;32mfor\u001b[0m \u001b[0mtoken\u001b[0m \u001b[0;32min\u001b[0m \u001b[0m_treebank_word_tokenizer\u001b[0m\u001b[0;34m.\u001b[0m\u001b[0mtokenize\u001b[0m\u001b[0;34m(\u001b[0m\u001b[0msent\u001b[0m\u001b[0;34m)\u001b[0m\u001b[0;34m\u001b[0m\u001b[0;34m\u001b[0m\u001b[0m\n\u001b[0m\u001b[1;32m    132\u001b[0m     ]\n",
            "\u001b[0;32m/usr/local/lib/python3.10/dist-packages/nltk/tokenize/destructive.py\u001b[0m in \u001b[0;36mtokenize\u001b[0;34m(self, text, convert_parentheses, return_str)\u001b[0m\n\u001b[1;32m    176\u001b[0m \u001b[0;34m\u001b[0m\u001b[0m\n\u001b[1;32m    177\u001b[0m         \u001b[0;32mfor\u001b[0m \u001b[0mregexp\u001b[0m\u001b[0;34m,\u001b[0m \u001b[0msubstitution\u001b[0m \u001b[0;32min\u001b[0m \u001b[0mself\u001b[0m\u001b[0;34m.\u001b[0m\u001b[0mENDING_QUOTES\u001b[0m\u001b[0;34m:\u001b[0m\u001b[0;34m\u001b[0m\u001b[0;34m\u001b[0m\u001b[0m\n\u001b[0;32m--> 178\u001b[0;31m             \u001b[0mtext\u001b[0m \u001b[0;34m=\u001b[0m \u001b[0mregexp\u001b[0m\u001b[0;34m.\u001b[0m\u001b[0msub\u001b[0m\u001b[0;34m(\u001b[0m\u001b[0msubstitution\u001b[0m\u001b[0;34m,\u001b[0m \u001b[0mtext\u001b[0m\u001b[0;34m)\u001b[0m\u001b[0;34m\u001b[0m\u001b[0;34m\u001b[0m\u001b[0m\n\u001b[0m\u001b[1;32m    179\u001b[0m \u001b[0;34m\u001b[0m\u001b[0m\n\u001b[1;32m    180\u001b[0m         \u001b[0;32mfor\u001b[0m \u001b[0mregexp\u001b[0m \u001b[0;32min\u001b[0m \u001b[0mself\u001b[0m\u001b[0;34m.\u001b[0m\u001b[0mCONTRACTIONS2\u001b[0m\u001b[0;34m:\u001b[0m\u001b[0;34m\u001b[0m\u001b[0;34m\u001b[0m\u001b[0m\n",
            "\u001b[0;32m/usr/lib/python3.10/re.py\u001b[0m in \u001b[0;36m_subx\u001b[0;34m(pattern, template)\u001b[0m\n\u001b[1;32m    324\u001b[0m \u001b[0;32mdef\u001b[0m \u001b[0m_subx\u001b[0m\u001b[0;34m(\u001b[0m\u001b[0mpattern\u001b[0m\u001b[0;34m,\u001b[0m \u001b[0mtemplate\u001b[0m\u001b[0;34m)\u001b[0m\u001b[0;34m:\u001b[0m\u001b[0;34m\u001b[0m\u001b[0;34m\u001b[0m\u001b[0m\n\u001b[1;32m    325\u001b[0m     \u001b[0;31m# internal: Pattern.sub/subn implementation helper\u001b[0m\u001b[0;34m\u001b[0m\u001b[0;34m\u001b[0m\u001b[0m\n\u001b[0;32m--> 326\u001b[0;31m     \u001b[0mtemplate\u001b[0m \u001b[0;34m=\u001b[0m \u001b[0m_compile_repl\u001b[0m\u001b[0;34m(\u001b[0m\u001b[0mtemplate\u001b[0m\u001b[0;34m,\u001b[0m \u001b[0mpattern\u001b[0m\u001b[0;34m)\u001b[0m\u001b[0;34m\u001b[0m\u001b[0;34m\u001b[0m\u001b[0m\n\u001b[0m\u001b[1;32m    327\u001b[0m     \u001b[0;32mif\u001b[0m \u001b[0;32mnot\u001b[0m \u001b[0mtemplate\u001b[0m\u001b[0;34m[\u001b[0m\u001b[0;36m0\u001b[0m\u001b[0;34m]\u001b[0m \u001b[0;32mand\u001b[0m \u001b[0mlen\u001b[0m\u001b[0;34m(\u001b[0m\u001b[0mtemplate\u001b[0m\u001b[0;34m[\u001b[0m\u001b[0;36m1\u001b[0m\u001b[0;34m]\u001b[0m\u001b[0;34m)\u001b[0m \u001b[0;34m==\u001b[0m \u001b[0;36m1\u001b[0m\u001b[0;34m:\u001b[0m\u001b[0;34m\u001b[0m\u001b[0;34m\u001b[0m\u001b[0m\n\u001b[1;32m    328\u001b[0m         \u001b[0;31m# literal replacement\u001b[0m\u001b[0;34m\u001b[0m\u001b[0;34m\u001b[0m\u001b[0m\n",
            "\u001b[0;31mKeyboardInterrupt\u001b[0m: "
          ]
        }
      ]
    },
    {
      "cell_type": "markdown",
      "source": [
        "# Data Preprocessing"
      ],
      "metadata": {
        "id": "l28obkaybzH_"
      }
    },
    {
      "cell_type": "code",
      "source": [
        "import nltk\n",
        "from nltk.corpus import stopwords\n",
        "from nltk.tokenize import word_tokenize\n",
        "from nltk.stem import PorterStemmer, WordNetLemmatizer\n",
        "import string\n",
        "\n",
        "nltk.download('stopwords')\n",
        "\n",
        "stop_words = set(stopwords.words('english'))\n",
        "stemmer = PorterStemmer()\n",
        "lemmatizer = WordNetLemmatizer()\n",
        "\n",
        "def preprocess_text(text):\n",
        "    # Lowercase the text\n",
        "    text = text.lower()\n",
        "\n",
        "    # Remove punctuation and digits\n",
        "    text = text.translate(str.maketrans('', '', string.punctuation + string.digits))\n",
        "\n",
        "    # Tokenize the text\n",
        "    words = word_tokenize(text)\n",
        "\n",
        "    # Remove stop words\n",
        "    words = [word for word in words if word not in stop_words]\n",
        "\n",
        "    # Stem or lemmatize the words\n",
        "    words = [stemmer.stem(word) for word in words]\n",
        "\n",
        "    # Join the words back into a string\n",
        "    text = ' '.join(words)\n",
        "\n",
        "    return text"
      ],
      "metadata": {
        "id": "Fshzvm9Qb-sN",
        "colab": {
          "base_uri": "https://localhost:8080/"
        },
        "outputId": "798e0e86-5cae-4c07-a310-8282b1ba3b4b"
      },
      "execution_count": null,
      "outputs": [
        {
          "output_type": "stream",
          "name": "stderr",
          "text": [
            "[nltk_data] Downloading package stopwords to /root/nltk_data...\n",
            "[nltk_data]   Unzipping corpora/stopwords.zip.\n"
          ]
        }
      ]
    },
    {
      "cell_type": "code",
      "source": [
        "import pandas as pd\n",
        "import numpy as np\n",
        "\n",
        "real_subset = real_news.loc[:5000]\n",
        "fake_subset = fake_news.loc[:5000]\n",
        "\n",
        "real = real_subset[\"text\"].apply(preprocess_text)\n",
        "fake = fake_subset[\"text\"].apply(preprocess_text)"
      ],
      "metadata": {
        "id": "yY8vQaY0nGS7"
      },
      "execution_count": null,
      "outputs": []
    },
    {
      "cell_type": "markdown",
      "source": [
        "# Model Training/Evaluation"
      ],
      "metadata": {
        "id": "F0IQpvHD77DU"
      }
    },
    {
      "cell_type": "code",
      "source": [
        "from sklearn.feature_extraction.text import CountVectorizer\n",
        "from sklearn.model_selection import train_test_split\n",
        "from sklearn.linear_model import LogisticRegression\n",
        "from sklearn.metrics import accuracy_score, precision_score, recall_score, f1_score\n",
        "import scipy.sparse as sp\n",
        "import numpy as np\n",
        "\n",
        "# Getting the features\n",
        "vectorizer = CountVectorizer()\n",
        "X_real = vectorizer.fit_transform(real)\n",
        "X_fake = vectorizer.transform(fake)\n",
        "\n",
        "X = sp.vstack([X_real, X_fake])\n",
        "y = np.concatenate([np.ones(X_real.shape[0]), np.zeros(X_fake.shape[0])])\n",
        "\n",
        "# Model Training\n",
        "X_train, X_test, y_train, y_test = train_test_split(X, y, test_size=0.2, random_state=42)\n",
        "clf = LogisticRegression(random_state=42)\n",
        "\n",
        "def train_and_evaluate(model, X_train, y_train, X_test, y_test):\n",
        "  model.fit(X_train, y_train)\n",
        "\n",
        "  # Model evaluation\n",
        "  y_pred = model.predict(X_test)\n",
        "\n",
        "  accuracy = accuracy_score(y_test, y_pred)\n",
        "  precision = precision_score(y_test, y_pred)\n",
        "  recall = recall_score(y_test, y_pred)\n",
        "  f1 = f1_score(y_test, y_pred)\n",
        "\n",
        "  print('Accuracy:', accuracy)\n",
        "  print('Precision:', precision)\n",
        "  print('Recall:', recall)\n",
        "  print('F1 Score:', f1)\n",
        "\n",
        "train_and_evaluate(clf, X_train, y_train, X_test, y_test)"
      ],
      "metadata": {
        "id": "sfXlHmYo79aE",
        "colab": {
          "base_uri": "https://localhost:8080/"
        },
        "outputId": "ed2415ef-c359-442f-a8bc-5f722530f583"
      },
      "execution_count": null,
      "outputs": [
        {
          "output_type": "stream",
          "name": "stdout",
          "text": [
            "Accuracy: 0.9970014992503748\n",
            "Precision: 0.9980139026812314\n",
            "Recall: 0.9960356788899901\n",
            "F1 Score: 0.9970238095238095\n"
          ]
        }
      ]
    },
    {
      "cell_type": "markdown",
      "source": [
        "# Save the model (to temporary storage)"
      ],
      "metadata": {
        "id": "kPgxrmn-WYdJ"
      }
    },
    {
      "cell_type": "code",
      "source": [
        "# This is a VERY important step (subsequent cells require the model to be saved in Colab's temporary storage to work)\n",
        "\n",
        "from joblib import dump\n",
        "\n",
        "dump(clf, 'model.joblib')\n",
        "dump(vectorizer, 'vectorizer.joblib')"
      ],
      "metadata": {
        "id": "KisUvHKDWZ7a",
        "colab": {
          "base_uri": "https://localhost:8080/"
        },
        "outputId": "7cd1a3b8-a6c1-4b04-929f-912bebba2fa7"
      },
      "execution_count": null,
      "outputs": [
        {
          "output_type": "execute_result",
          "data": {
            "text/plain": [
              "['vectorizer.joblib']"
            ]
          },
          "metadata": {},
          "execution_count": 10
        }
      ]
    },
    {
      "cell_type": "markdown",
      "source": [
        "# Deployment"
      ],
      "metadata": {
        "id": "MbBdxTd8S-Rg"
      }
    },
    {
      "cell_type": "markdown",
      "source": [
        "## Define *predict* function\n",
        "\n"
      ],
      "metadata": {
        "id": "cpmtrrEld54a"
      }
    },
    {
      "cell_type": "code",
      "source": [
        "from joblib import load\n",
        "\n",
        "def predict(text, clf, vectoriser):\n",
        "  preprocessed_text = preprocess_text(text)\n",
        "  X = vectoriser.transform([preprocessed_text])\n",
        "  y_pred = clf.predict(X)\n",
        "  if y_pred[0] == 1:\n",
        "    result = 'real'\n",
        "  else:\n",
        "    result = 'fake'\n",
        "  return result"
      ],
      "metadata": {
        "id": "JOgmelhVTAyN"
      },
      "execution_count": null,
      "outputs": []
    },
    {
      "cell_type": "markdown",
      "source": [
        "## Let's start using the damn thing!"
      ],
      "metadata": {
        "id": "-m_mROVPeCtY"
      }
    },
    {
      "cell_type": "code",
      "source": [
        "# IMPORTANT: Model has to be loaded onto Google Colab's temporary file system (model is accessed using a .joblib function)\n",
        "# RULE OF THUMB: Run every cell before this to ensure it works.\n",
        "\n",
        "from joblib import load\n",
        "\n",
        "clf = load(\"model.joblib\")\n",
        "vectoriser = load(\"vectorizer.joblib\")\n",
        "\n",
        "print(predict(\"\"\"\n",
        "Donald Trump is afraid of strong, powerful women. He is a horrific misogynist, and has shown himself to be so over and over again. That is nothing new. He has mocked the weight of a beauty queen, made repeated suggestions about women s menstrual cycles, and had repeatedly called women who accuse men   including himself   of sexual harassment and sexual assault of being liars and threatened to sue him. Now, he has gone even lower with an attack on Democratic Senator Kirsten Gillibrand (NY).In an early morning tweet, Trump actually suggested that Senator Gillibrand would have sex with him for campaign money. No, I m not kidding. Here is the tweet:Lightweight Senator Kirsten Gillibrand, a total flunky for Chuck Schumer and someone who would come to my office  begging  for campaign contributions not so long ago (and would do anything for them), is now in the ring fighting against Trump. Very disloyal to Bill & Crooked-USED!  Donald J. Trump (@realDonaldTrump) December 12, 2017For one thing, I don t think Kirsten Gillibrand has to beg the likes of Donald Trump for anything, and she certainly would not stoop anywhere near doing what Trump is suggesting for campaign money. Think about this, folks: the sitting  president  is actually saying that a sitting Senator offered him sex in exchange for campaign money. That is truly beyond the pale. We already knew that Donald Trump was a sexist asshole, but this is a new low, even for him.General Kelly, General McMaster, and whomever else is running that White House   DO SOMETHING about this fool s Twitter habit. It is way out of control, and he does great damage to the nation with ever 140 280 character outburst. This is outrageous. Forget the fact that the orange overlord is currently squatting in the Oval Office   no adult, period, should be acting like this.In this watershed  Me Too  moment in America, it is time to call out the Sexist-in-Chief for what he is   a complete misogynist who has no respect for women and never has. Ivanka, Melania, Sarah Huckabee Sanders, Hope Hicks, and all the other women in Trump s orbit need to step up and say that there s been more than enough. Curtail this man s sexist behavior, or turn in your woman card. Every last one of you.Featured image via Alex Wong/Getty Images\n",
        "\"\"\", clf, vectoriser))"
      ],
      "metadata": {
        "id": "FKsjlwAed1_z",
        "colab": {
          "base_uri": "https://localhost:8080/"
        },
        "outputId": "ecf974a0-8e54-42ed-c141-dc623185b51e"
      },
      "execution_count": null,
      "outputs": [
        {
          "output_type": "stream",
          "name": "stdout",
          "text": [
            "fake\n"
          ]
        }
      ]
    }
  ]
}